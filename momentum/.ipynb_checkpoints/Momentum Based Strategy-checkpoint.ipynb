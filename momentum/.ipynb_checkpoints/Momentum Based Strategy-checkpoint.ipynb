{
 "cells": [
  {
   "cell_type": "code",
   "execution_count": 105,
   "metadata": {},
   "outputs": [],
   "source": [
    "import numpy as np\n",
    "import pandas as pd\n",
    "import backtrader as bt\n",
    "import matplotlib.pyplot as plt\n",
    "import datetime\n",
    "from scipy import stats\n"
   ]
  },
  {
   "cell_type": "code",
   "execution_count": 124,
   "metadata": {},
   "outputs": [],
   "source": [
    "data_address = \"../data/\"\n",
    "companies = [\"AAPL\", \"AMD\", \"AMZN\", \"BBBY\", \"GOOG\", \"IBM\", \"INTC\", \"MSFT\", \"NFLX\", \"TGT\"]\n",
    "log_execution = False\n",
    "log_any_thing = False\n",
    "log_trade = False\n",
    "log_next = False\n",
    "log_notify_order = False"
   ]
  },
  {
   "cell_type": "code",
   "execution_count": 3,
   "metadata": {},
   "outputs": [],
   "source": [
    "def get_all_data(compaines, data_address):    \n",
    "    return [pd.read_csv(data_address +  i + \".csv\" ) for i in compaines], [data_address +  i + \".csv\" for i in compaines]\n",
    "def print_value(cerebro):\n",
    "    print(\"Value Before Running Algorithm \", cerebro.broker.getvalue())\n",
    "    cerebro.run()\n",
    "    print(\"Cache After Running Algorithm \", cerebro.broker.getvalue())"
   ]
  },
  {
   "cell_type": "code",
   "execution_count": 4,
   "metadata": {},
   "outputs": [],
   "source": [
    "dfs, addreses = get_all_data(companies, data_address)"
   ]
  },
  {
   "cell_type": "code",
   "execution_count": 27,
   "metadata": {},
   "outputs": [
    {
     "data": {
      "text/html": [
       "<div>\n",
       "<style scoped>\n",
       "    .dataframe tbody tr th:only-of-type {\n",
       "        vertical-align: middle;\n",
       "    }\n",
       "\n",
       "    .dataframe tbody tr th {\n",
       "        vertical-align: top;\n",
       "    }\n",
       "\n",
       "    .dataframe thead th {\n",
       "        text-align: right;\n",
       "    }\n",
       "</style>\n",
       "<table border=\"1\" class=\"dataframe\">\n",
       "  <thead>\n",
       "    <tr style=\"text-align: right;\">\n",
       "      <th></th>\n",
       "      <th>Date</th>\n",
       "      <th>Open</th>\n",
       "      <th>High</th>\n",
       "      <th>Low</th>\n",
       "      <th>Close</th>\n",
       "      <th>Adj Close</th>\n",
       "      <th>Volume</th>\n",
       "    </tr>\n",
       "  </thead>\n",
       "  <tbody>\n",
       "    <tr>\n",
       "      <th>0</th>\n",
       "      <td>2014-07-14</td>\n",
       "      <td>95.860001</td>\n",
       "      <td>96.889999</td>\n",
       "      <td>95.650002</td>\n",
       "      <td>96.449997</td>\n",
       "      <td>88.398788</td>\n",
       "      <td>42810000</td>\n",
       "    </tr>\n",
       "    <tr>\n",
       "      <th>1</th>\n",
       "      <td>2014-07-15</td>\n",
       "      <td>96.800003</td>\n",
       "      <td>96.849998</td>\n",
       "      <td>95.029999</td>\n",
       "      <td>95.320000</td>\n",
       "      <td>87.363113</td>\n",
       "      <td>45477900</td>\n",
       "    </tr>\n",
       "    <tr>\n",
       "      <th>2</th>\n",
       "      <td>2014-07-16</td>\n",
       "      <td>96.970001</td>\n",
       "      <td>97.099998</td>\n",
       "      <td>94.739998</td>\n",
       "      <td>94.779999</td>\n",
       "      <td>86.868187</td>\n",
       "      <td>53396300</td>\n",
       "    </tr>\n",
       "    <tr>\n",
       "      <th>3</th>\n",
       "      <td>2014-07-17</td>\n",
       "      <td>95.029999</td>\n",
       "      <td>95.279999</td>\n",
       "      <td>92.570000</td>\n",
       "      <td>93.089996</td>\n",
       "      <td>85.319267</td>\n",
       "      <td>57298000</td>\n",
       "    </tr>\n",
       "    <tr>\n",
       "      <th>4</th>\n",
       "      <td>2014-07-18</td>\n",
       "      <td>93.620003</td>\n",
       "      <td>94.739998</td>\n",
       "      <td>93.019997</td>\n",
       "      <td>94.430000</td>\n",
       "      <td>86.547401</td>\n",
       "      <td>49988000</td>\n",
       "    </tr>\n",
       "  </tbody>\n",
       "</table>\n",
       "</div>"
      ],
      "text/plain": [
       "         Date       Open       High        Low      Close  Adj Close    Volume\n",
       "0  2014-07-14  95.860001  96.889999  95.650002  96.449997  88.398788  42810000\n",
       "1  2014-07-15  96.800003  96.849998  95.029999  95.320000  87.363113  45477900\n",
       "2  2014-07-16  96.970001  97.099998  94.739998  94.779999  86.868187  53396300\n",
       "3  2014-07-17  95.029999  95.279999  92.570000  93.089996  85.319267  57298000\n",
       "4  2014-07-18  93.620003  94.739998  93.019997  94.430000  86.547401  49988000"
      ]
     },
     "execution_count": 27,
     "metadata": {},
     "output_type": "execute_result"
    }
   ],
   "source": [
    "dfs[0].head(5)"
   ]
  },
  {
   "cell_type": "code",
   "execution_count": 128,
   "metadata": {},
   "outputs": [],
   "source": [
    "class TestStragy(bt.Strategy):\n",
    "    \n",
    "    def log(self, txt, dt = None):\n",
    "        '''\n",
    "        txt : Message\n",
    "        dt : Date, if None is given will try and use the time stamp on the \n",
    "        '''\n",
    "        \n",
    "        global log_any_thing\n",
    "        \n",
    "        if not log_any_thing : \n",
    "            \n",
    "            return\n",
    "        \n",
    "        dt = dt or self.datas[0].datetime.date(0)\n",
    "        print(\"%s, %s\" % (dt.isoformat(), txt))\n",
    "    \n",
    "    \n",
    "    def should_trade(self, day):\n",
    "        \n",
    "        if day%120 == 0 and day is not 0 :\n",
    "            \n",
    "            return True\n",
    "        \n",
    "        return False\n",
    "    \n",
    "    def should_update(self, day):\n",
    "        \n",
    "        if day%120 == 0 :\n",
    "            \n",
    "            return True\n",
    "        \n",
    "        return False\n",
    "    \n",
    "    def should_trade_back(self):\n",
    "#         trade_back = len(self) - self.last_trading_day == 2\n",
    "# #         trade_back = trade_back or \n",
    "#         if trade_back and self.last_trading_day is not -1 :\n",
    "#             return True\n",
    "        if len(self)%120 == 0 and len(self) is not 0 :\n",
    "            \n",
    "            return True\n",
    "        return False\n",
    "    \n",
    "    def update(self):\n",
    "        \n",
    "        for i, iv in enumerate(self.datas) :\n",
    "            \n",
    "            self.returns[i] = np.log2(iv.adjclose[0]/self.last_month[i])\n",
    "            \n",
    "            self.last_month[i] = iv.adjclose[0]\n",
    "            \n",
    "            self.last_trade = len(self)\n",
    "            \n",
    "            \n",
    "    \n",
    "    def __init__(self) :\n",
    "        \n",
    "        self.last_executed = 0\n",
    "        self.last_month = np.array([np.nan for i in self.datas])\n",
    "        self.returns = np.array([np.nan for i in self.datas])\n",
    "#         0 for not trading, 1 for bought, -1 for sold\n",
    "        self.positionsM = np.array([0 for i in self.datas])\n",
    "        self.last_trading_day = -1\n",
    "        self.k = 5\n",
    "#         self.traded_prices\n",
    "    \n",
    "    def notify_order(self, order):\n",
    "        '''\n",
    "        if there is a change in a order, the order is given to this function so that furthur desicions can be made\n",
    "        '''\n",
    "        global log_notify_order\n",
    "        \n",
    "        if  order.status in [order.Submitted, order.Accepted] : \n",
    "            return \n",
    "        if order.status in [order.Completed] :\n",
    "            if order.isbuy():\n",
    "                if log_notify_order : \n",
    "                    self.log('BUY Executed, Price : %2f, Cost : %2f, Comm : %2f' % \n",
    "                            (order.executed.price, \n",
    "                             order.executed.value, \n",
    "                             order.executed.comm))\n",
    "            elif order.issell():\n",
    "                if log_notify_order : \n",
    "                    self.log('Sell Executed, Price : %2f, Cost : %2f, Comm : %2f' % \n",
    "                            (order.executed.price, \n",
    "                             order.executed.value, \n",
    "                             order.executed.comm))\n",
    "#             we'll save on which step something was executed\n",
    "            self.bar_executed = len(self)\n",
    "        elif order.status in [order.Canceled, order.Margin, order.Rejected] :\n",
    "            if log_notify_order :     \n",
    "                self.log('Order Canceled/Margin/Rejected')\n",
    "        self.order = None\n",
    "    \n",
    "    \n",
    "    def notify_trade(self, trade):\n",
    "        if not trade.isclosed:\n",
    "            return\n",
    "        global trades\n",
    "        global log_trade\n",
    "        if log_trade :\n",
    "            self.log('OPERATION PROFIT, GROSS %.2f, NET %.2f, Value %.2f, Price %.2f' %\n",
    "                     (trade.pnl, trade.pnlcomm, trade.value, trade.price))\n",
    "        trades.append(trade)\n",
    "\n",
    "    def next(self):\n",
    "        \n",
    "        global addreses\n",
    "        global log_next\n",
    "        \n",
    "        for i, iv in enumerate(addreses): \n",
    "            \n",
    "            if log_next :\n",
    "                self.log(\"Price of \"+ iv + \" \" + str(self.datas[i].adjclose[0]) + \" \" + str(self.datas[i].close[0]))\n",
    "            \n",
    "        \n",
    "        if self.should_update(len(self)):\n",
    "            self.update()\n",
    "        \n",
    "        if self.should_trade_back():\n",
    "            if log_next:\n",
    "                self.log(\"Ending Trade\")\n",
    "            for i, iv in enumerate(self.positionsM) :\n",
    "                \n",
    "                if iv == -1 :\n",
    "                    if log_next :\n",
    "                        self.log(\"Buying Back \" + addreses[i]+ \" \" + str(self.datas[i].adjclose[0])+ \" \" + str(self.datas[i].close[0]))\n",
    "                    self.buy(self.datas[i], self.k)\n",
    "                    \n",
    "                elif iv == +1 :\n",
    "                    if log_next : \n",
    "                        self.log(\"Selling Back \" + addreses[i]+ \" \" + str(self.datas[i].adjclose[0])+ \" \" + str(self.datas[i].close[0]))\n",
    "                    self.sell(self.datas[i], self.k)\n",
    "                \n",
    "                self.positionsM[i] = 0\n",
    "        \n",
    "        if self.should_trade(len(self)):\n",
    "            if log_next :\n",
    "                self.log(\"Starting Trade\")\n",
    "            self.last_trading_day = len(self)\n",
    "            sorted_returns = np.argsort(self.returns)\n",
    "            n = 2\n",
    "            \n",
    "            for i in sorted_returns[:n] :\n",
    "#                 Ones that have been doing bad : short them\n",
    "                if log_next :\n",
    "                    self.log(\"Selling \" + addreses[i]+ \" \" + str(self.datas[i].adjclose[0])+ \" \" + str(self.datas[i].close[0]))\n",
    "                self.sell(self.datas[i], self.k)\n",
    "                self.positionsM[i] = -1\n",
    "            \n",
    "            for i in sorted_returns[-n:] :\n",
    "#                 Ones that have been doing good : long them\n",
    "                if log_next :\n",
    "                    self.log(\"Buying \" + addreses[i]+ \" \" + str(self.datas[i].adjclose[0])+ \" \" + str(self.datas[i].close[0]))\n",
    "                self.buy(self.datas[i], self.k)\n",
    "                self.positionsM[i] = +1\n",
    "                \n",
    "        \n",
    "                \n",
    "    "
   ]
  },
  {
   "cell_type": "code",
   "execution_count": 179,
   "metadata": {},
   "outputs": [],
   "source": [
    "cerebro = bt.Cerebro()\n",
    "for i in addreses:\n",
    "    data = bt.feeds.YahooFinanceCSVData(dataname = i, \n",
    "                                    # Do not pass values before this date\n",
    "                                    fromdate=datetime.datetime(2014, 1, 1),\n",
    "                                    # Do not pass values after this date\n",
    "                                    todate=datetime.datetime(2019, 1, 1))\n",
    "    cerebro.adddata(data)\n",
    "cerebro.addstrategy(TestStragy)\n",
    "# Setting the commision to 0.1%\n",
    "cerebro.broker.setcommission(1e-3)\n"
   ]
  },
  {
   "cell_type": "code",
   "execution_count": 180,
   "metadata": {},
   "outputs": [
    {
     "name": "stdout",
     "output_type": "stream",
     "text": [
      "Value Before Running Algorithm  10000.0\n",
      "Cache After Running Algorithm  12000.647200000007\n"
     ]
    }
   ],
   "source": [
    "trades = []\n",
    "print_value(cerebro)"
   ]
  },
  {
   "cell_type": "code",
   "execution_count": 181,
   "metadata": {},
   "outputs": [],
   "source": [
    "trades = np.array(trades)"
   ]
  },
  {
   "cell_type": "code",
   "execution_count": 182,
   "metadata": {},
   "outputs": [],
   "source": [
    "rets = np.array([i.pnl/i.price for i in trades]) "
   ]
  },
  {
   "cell_type": "markdown",
   "metadata": {},
   "source": [
    "# Average Raw Return"
   ]
  },
  {
   "cell_type": "code",
   "execution_count": 183,
   "metadata": {},
   "outputs": [
    {
     "data": {
      "text/plain": [
       "0.5389433173884088"
      ]
     },
     "execution_count": 183,
     "metadata": {},
     "output_type": "execute_result"
    }
   ],
   "source": [
    "np.mean(rets)"
   ]
  },
  {
   "cell_type": "markdown",
   "metadata": {},
   "source": [
    "# The score of a one tailed t-test score"
   ]
  },
  {
   "cell_type": "code",
   "execution_count": 184,
   "metadata": {},
   "outputs": [
    {
     "name": "stdout",
     "output_type": "stream",
     "text": [
      "0.05375198361193336\n"
     ]
    }
   ],
   "source": [
    "print(stats.ttest_1samp(rets,0)[-1]/2)"
   ]
  }
 ],
 "metadata": {
  "kernelspec": {
   "display_name": "Python 3",
   "language": "python",
   "name": "python3"
  },
  "language_info": {
   "codemirror_mode": {
    "name": "ipython",
    "version": 3
   },
   "file_extension": ".py",
   "mimetype": "text/x-python",
   "name": "python",
   "nbconvert_exporter": "python",
   "pygments_lexer": "ipython3",
   "version": "3.6.7"
  }
 },
 "nbformat": 4,
 "nbformat_minor": 2
}
